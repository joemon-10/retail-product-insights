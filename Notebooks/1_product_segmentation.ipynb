{
 "cells": [
  {
   "cell_type": "markdown",
   "id": "91accb57-d32e-4daf-aa39-a7f3bb727d84",
   "metadata": {},
   "source": [
    "# Product Segmentation using Clustering\n",
    "\n",
    "In this notebook, we perform unsupervised product segmentation on the **Online Retail** dataset using **KMeans Clustering**.\n",
    "\n",
    "### Objective\n",
    "Segment products based on:\n",
    "- Total quantity sold\n",
    "- Average price per unit\n",
    "- Number of transactions sold in\n",
    "\n",
    "This helps retailers:\n",
    "- Tailor promotions and bundling\n",
    "- Prioritize inventory based on sales behavior"
   ]
  },
  {
   "cell_type": "markdown",
   "id": "2c8e452a-401c-4a83-9a11-0d71fd0954ba",
   "metadata": {},
   "source": [
    "## Step 1: Import Libraries"
   ]
  },
  {
   "cell_type": "code",
   "execution_count": null,
   "id": "f1193bd4-14ba-47fe-9cea-6180a63e2b90",
   "metadata": {
    "scrolled": true
   },
   "outputs": [],
   "source": [
    "import pandas as pd\n",
    "import matplotlib.pyplot as plt\n",
    "from sklearn.preprocessing import StandardScaler\n",
    "from sklearn.cluster import KMeans, AgglomerativeClustering\n",
    "import scipy.cluster.hierarchy as sch"
   ]
  },
  {
   "cell_type": "markdown",
   "id": "23c840dd-4e51-4246-bbd1-25bd6e607ca5",
   "metadata": {},
   "source": [
    "## Step 2: Load and Clean the Dataset"
   ]
  },
  {
   "cell_type": "code",
   "execution_count": null,
   "id": "5141978c-5760-422d-8fc8-e71eb726771a",
   "metadata": {},
   "outputs": [],
   "source": [
    "df = pd.read_csv('../Data/Online_Retail.csv')\n",
    "# Drop missing values\n",
    "df = df.dropna(subset=['InvoiceNo', 'StockCode', 'Description', 'Quantity', 'InvoiceDate',\n",
    "                       'UnitPrice', 'CustomerID', 'Country'])\n",
    "# Convert invoiceDate to date-time formate\n",
    "df['InvoiceDate'] = pd.to_datetime(df['InvoiceDate'], dayfirst=False)"
   ]
  },
  {
   "cell_type": "code",
   "execution_count": null,
   "id": "dd17cc0e-b0ac-49c3-a9dd-636acb411861",
   "metadata": {},
   "outputs": [],
   "source": [
    "# Preview\n",
    "df.head()"
   ]
  },
  {
   "cell_type": "markdown",
   "id": "ac026967-7016-4706-a02c-e2b7b36e06fc",
   "metadata": {},
   "source": [
    "## Step 3: Product-Level Feature Engineering\n",
    "\n",
    "We group the data by product (`StockCode`) to compute:\n",
    "\n",
    "- Total quantity sold\n",
    "- Average price per unit\n",
    "- Number of transactions the product appears in\n",
    "\n",
    "We'll also create a `TotalRevenue` column for additional insight.\n"
   ]
  },
  {
   "cell_type": "code",
   "execution_count": null,
   "id": "c11358ba-db3d-4a2d-9b79-4b0d5ff6a1f0",
   "metadata": {},
   "outputs": [],
   "source": [
    "# Creating Product-level feature set\n",
    "product_df = df.groupby('StockCode').agg({\n",
    "    'Description': 'first',\n",
    "    'Quantity': 'sum',\n",
    "    'UnitPrice': 'mean',\n",
    "    'InvoiceNo': pd.Series.nunique\n",
    "}).rename(columns={\n",
    "    'InvoiceNo': 'TransactionCount',\n",
    "    'Quantity': 'TotalQuantitySold',\n",
    "    'UnitPrice': 'AvgUnitPrice'\n",
    "})\n",
    "# Adding the total revenue column for EDA\n",
    "product_df['TotalRevenue'] = product_df['TotalQuantitySold'] * product_df['AvgUnitPrice']\n",
    "# Reset index so StockCode becomes a regular column instead of an index\n",
    "product_df = product_df.reset_index()"
   ]
  },
  {
   "cell_type": "code",
   "execution_count": null,
   "id": "1d1ce1a2-69fb-433a-a581-4329013426e8",
   "metadata": {},
   "outputs": [],
   "source": [
    "# Preview\n",
    "product_df.head()"
   ]
  },
  {
   "cell_type": "markdown",
   "id": "b7ddd054-d3fc-4c91-b47a-f67f13e7c8bf",
   "metadata": {},
   "source": [
    "## Step 4: Feature Selection and Scaling\n",
    "\n",
    "We’ll select 3 numeric features that capture product-level sales behavior:\n",
    "\n",
    "- TotalQuantitySold\n",
    "- AvgUnitPrice\n",
    "- TransactionCount\n",
    "\n",
    "Then we’ll scale the data using **StandardScaler** before clustering.\n"
   ]
  },
  {
   "cell_type": "code",
   "execution_count": null,
   "id": "c1db238a-d2bf-4071-8eb9-8d1084817b9e",
   "metadata": {},
   "outputs": [],
   "source": [
    "# Feature selection\n",
    "X = product_df.iloc[:, ['TotalQuantitySold', 'AvgUnitPrice', 'TransactionCount']]\n",
    "\n",
    "# Feature scaling\n",
    "sc = StandardScaler()\n",
    "X = sc.fit_transform(X)"
   ]
  },
  {
   "cell_type": "markdown",
   "id": "0056ce65-a8c8-4719-a97e-cc6316a90b62",
   "metadata": {},
   "source": [
    "## Step 5: KMeans Clustering and Elbow Method\n",
    "\n",
    "We’ll use the elbow method to determine the optimal number of clusters based on WCSS (Within-Cluster Sum of Squares), and then apply KMeans clustering."
   ]
  },
  {
   "cell_type": "code",
   "execution_count": null,
   "id": "b903241d-4add-409c-8fcd-011d55294f7e",
   "metadata": {},
   "outputs": [],
   "source": [
    "# Elbow method to find optimal k\n",
    "wcss = []\n",
    "for i in range(1, 11):\n",
    "    kmeans = KMeans(n_clusters=i, init='k-means++', random_state=0)\n",
    "    kmeans.fit(X_scaled)\n",
    "    wcss.append(kmeans.inertia_)\n",
    "\n",
    "# Plotting the elbow graph\n",
    "plt.figure(figsize=(8, 4))\n",
    "plt.plot(range(1, 11), wcss, marker='o')\n",
    "plt.xlabel('Number of clusters')\n",
    "plt.ylabel('WCSS')\n",
    "plt.title('Elbow Method for Optimal k')\n",
    "plt.show()"
   ]
  },
  {
   "cell_type": "markdown",
   "id": "2a3031fd-eed7-4a37-bdf4-d8cac215c554",
   "metadata": {},
   "source": [
    "## Step 6: Applying KMeans Clustering\n",
    "\n",
    "We’ll use `k=3` clusters (based on the elbow method) and assign a cluster label to each product."
   ]
  },
  {
   "cell_type": "code",
   "execution_count": null,
   "id": "a4fdae72-8263-4e03-8674-e3c6b974c003",
   "metadata": {},
   "outputs": [],
   "source": [
    "# Fit KMeans with optimal clusters k=3\n",
    "km = KMeans(n_clusters=3, init='k-means++', random_state=0)\n",
    "y_kmeans = km.fit_predict(X)\n",
    "\n",
    "# Inserting the cluster label to the product data frame\n",
    "product_df['Cluster(KMeans)'] = y_kmeans"
   ]
  },
  {
   "cell_type": "code",
   "execution_count": null,
   "id": "29053c82-13f0-40c2-af60-2b1b496480cd",
   "metadata": {},
   "outputs": [],
   "source": [
    "# Preview with clusters\n",
    "product_df.head()"
   ]
  },
  {
   "cell_type": "markdown",
   "id": "66ae03ed-6c31-438f-80c8-9b9e1f0a4a36",
   "metadata": {},
   "source": [
    "## Step 7: KMeans Cluster Summary\n",
    "\n",
    "Let’s analyze how each cluster differs based on:\n",
    "\n",
    "- Average quantity sold\n",
    "- Average price per unit\n",
    "- Number of transactions the product appears in"
   ]
  },
  {
   "cell_type": "code",
   "execution_count": null,
   "id": "e445ee55-a045-4f4e-b906-dd85c9087bb5",
   "metadata": {},
   "outputs": [],
   "source": [
    "# Grouping by the kmeans clusters\n",
    "km_cluster_summary = product_df.groupby('Cluster(KMeans)')[['TotalQuantitySold', 'AvgUnitPrice', 'TransactionCount']].mean()\n",
    "print(\"KMeans Cluster Summary:\")\n",
    "print(km_cluster_summary)"
   ]
  },
  {
   "cell_type": "code",
   "execution_count": null,
   "id": "3fd92415-7c78-46f7-bbd0-a6629c12b7d9",
   "metadata": {},
   "outputs": [],
   "source": []
  }
 ],
 "metadata": {
  "kernelspec": {
   "display_name": "Python 3 (ipykernel)",
   "language": "python",
   "name": "python3"
  },
  "language_info": {
   "codemirror_mode": {
    "name": "ipython",
    "version": 3
   },
   "file_extension": ".py",
   "mimetype": "text/x-python",
   "name": "python",
   "nbconvert_exporter": "python",
   "pygments_lexer": "ipython3",
   "version": "3.13.5"
  }
 },
 "nbformat": 4,
 "nbformat_minor": 5
}
