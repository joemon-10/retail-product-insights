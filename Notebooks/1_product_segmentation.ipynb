{
 "cells": [
  {
   "cell_type": "markdown",
   "id": "91accb57-d32e-4daf-aa39-a7f3bb727d84",
   "metadata": {},
   "source": [
    "# Product Segmentation using Clustering\n",
    "\n",
    "In this notebook, we perform unsupervised product segmentation on the **Online Retail** dataset using **KMeans Clustering**.\n",
    "\n",
    "### Objective\n",
    "Segment products based on:\n",
    "- Total quantity sold\n",
    "- Average price per unit\n",
    "- Number of transactions sold in\n",
    "\n",
    "This helps retailers:\n",
    "- Tailor promotions and bundling\n",
    "- Prioritize inventory based on sales behavior"
   ]
  },
  {
   "cell_type": "markdown",
   "id": "2c8e452a-401c-4a83-9a11-0d71fd0954ba",
   "metadata": {},
   "source": [
    "## Step 1: Import Libraries"
   ]
  },
  {
   "cell_type": "code",
   "execution_count": 1,
   "id": "f1193bd4-14ba-47fe-9cea-6180a63e2b90",
   "metadata": {
    "scrolled": true
   },
   "outputs": [],
   "source": [
    "import pandas as pd\n",
    "import matplotlib.pyplot as plt\n",
    "from sklearn.preprocessing import StandardScaler\n",
    "from sklearn.cluster import KMeans, AgglomerativeClustering\n",
    "import scipy.cluster.hierarchy as sch"
   ]
  },
  {
   "cell_type": "markdown",
   "id": "23c840dd-4e51-4246-bbd1-25bd6e607ca5",
   "metadata": {},
   "source": [
    "## Step 2: Load and Clean the Dataset"
   ]
  },
  {
   "cell_type": "code",
   "execution_count": 2,
   "id": "5141978c-5760-422d-8fc8-e71eb726771a",
   "metadata": {},
   "outputs": [
    {
     "name": "stderr",
     "output_type": "stream",
     "text": [
      "C:\\Users\\joemo\\AppData\\Local\\Temp\\ipykernel_15488\\74501951.py:6: UserWarning: Could not infer format, so each element will be parsed individually, falling back to `dateutil`. To ensure parsing is consistent and as-expected, please specify a format.\n",
      "  df['InvoiceDate'] = pd.to_datetime(df['InvoiceDate'], dayfirst=False)\n"
     ]
    }
   ],
   "source": [
    "df = pd.read_csv('../Data/Online_Retail.csv')\n",
    "# Drop missing values\n",
    "df = df.dropna(subset=['InvoiceNo', 'StockCode', 'Description', 'Quantity', 'InvoiceDate',\n",
    "                       'UnitPrice', 'CustomerID', 'Country'])\n",
    "# Convert invoiceDate to date-time formate\n",
    "df['InvoiceDate'] = pd.to_datetime(df['InvoiceDate'], dayfirst=False)"
   ]
  },
  {
   "cell_type": "code",
   "execution_count": 3,
   "id": "dd17cc0e-b0ac-49c3-a9dd-636acb411861",
   "metadata": {},
   "outputs": [
    {
     "data": {
      "text/html": [
       "<div>\n",
       "<style scoped>\n",
       "    .dataframe tbody tr th:only-of-type {\n",
       "        vertical-align: middle;\n",
       "    }\n",
       "\n",
       "    .dataframe tbody tr th {\n",
       "        vertical-align: top;\n",
       "    }\n",
       "\n",
       "    .dataframe thead th {\n",
       "        text-align: right;\n",
       "    }\n",
       "</style>\n",
       "<table border=\"1\" class=\"dataframe\">\n",
       "  <thead>\n",
       "    <tr style=\"text-align: right;\">\n",
       "      <th></th>\n",
       "      <th>InvoiceNo</th>\n",
       "      <th>StockCode</th>\n",
       "      <th>Description</th>\n",
       "      <th>Quantity</th>\n",
       "      <th>InvoiceDate</th>\n",
       "      <th>UnitPrice</th>\n",
       "      <th>CustomerID</th>\n",
       "      <th>Country</th>\n",
       "    </tr>\n",
       "  </thead>\n",
       "  <tbody>\n",
       "    <tr>\n",
       "      <th>0</th>\n",
       "      <td>536365</td>\n",
       "      <td>85123A</td>\n",
       "      <td>WHITE HANGING HEART T-LIGHT HOLDER</td>\n",
       "      <td>6</td>\n",
       "      <td>2010-12-01 08:26:00</td>\n",
       "      <td>2.55</td>\n",
       "      <td>17850.0</td>\n",
       "      <td>United Kingdom</td>\n",
       "    </tr>\n",
       "    <tr>\n",
       "      <th>1</th>\n",
       "      <td>536365</td>\n",
       "      <td>71053</td>\n",
       "      <td>WHITE METAL LANTERN</td>\n",
       "      <td>6</td>\n",
       "      <td>2010-12-01 08:26:00</td>\n",
       "      <td>3.39</td>\n",
       "      <td>17850.0</td>\n",
       "      <td>United Kingdom</td>\n",
       "    </tr>\n",
       "    <tr>\n",
       "      <th>2</th>\n",
       "      <td>536365</td>\n",
       "      <td>84406B</td>\n",
       "      <td>CREAM CUPID HEARTS COAT HANGER</td>\n",
       "      <td>8</td>\n",
       "      <td>2010-12-01 08:26:00</td>\n",
       "      <td>2.75</td>\n",
       "      <td>17850.0</td>\n",
       "      <td>United Kingdom</td>\n",
       "    </tr>\n",
       "    <tr>\n",
       "      <th>3</th>\n",
       "      <td>536365</td>\n",
       "      <td>84029G</td>\n",
       "      <td>KNITTED UNION FLAG HOT WATER BOTTLE</td>\n",
       "      <td>6</td>\n",
       "      <td>2010-12-01 08:26:00</td>\n",
       "      <td>3.39</td>\n",
       "      <td>17850.0</td>\n",
       "      <td>United Kingdom</td>\n",
       "    </tr>\n",
       "    <tr>\n",
       "      <th>4</th>\n",
       "      <td>536365</td>\n",
       "      <td>84029E</td>\n",
       "      <td>RED WOOLLY HOTTIE WHITE HEART.</td>\n",
       "      <td>6</td>\n",
       "      <td>2010-12-01 08:26:00</td>\n",
       "      <td>3.39</td>\n",
       "      <td>17850.0</td>\n",
       "      <td>United Kingdom</td>\n",
       "    </tr>\n",
       "  </tbody>\n",
       "</table>\n",
       "</div>"
      ],
      "text/plain": [
       "  InvoiceNo StockCode                          Description  Quantity  \\\n",
       "0    536365    85123A   WHITE HANGING HEART T-LIGHT HOLDER         6   \n",
       "1    536365     71053                  WHITE METAL LANTERN         6   \n",
       "2    536365    84406B       CREAM CUPID HEARTS COAT HANGER         8   \n",
       "3    536365    84029G  KNITTED UNION FLAG HOT WATER BOTTLE         6   \n",
       "4    536365    84029E       RED WOOLLY HOTTIE WHITE HEART.         6   \n",
       "\n",
       "          InvoiceDate  UnitPrice  CustomerID         Country  \n",
       "0 2010-12-01 08:26:00       2.55     17850.0  United Kingdom  \n",
       "1 2010-12-01 08:26:00       3.39     17850.0  United Kingdom  \n",
       "2 2010-12-01 08:26:00       2.75     17850.0  United Kingdom  \n",
       "3 2010-12-01 08:26:00       3.39     17850.0  United Kingdom  \n",
       "4 2010-12-01 08:26:00       3.39     17850.0  United Kingdom  "
      ]
     },
     "execution_count": 3,
     "metadata": {},
     "output_type": "execute_result"
    }
   ],
   "source": [
    "# Preview\n",
    "df.head()"
   ]
  },
  {
   "cell_type": "markdown",
   "id": "ac026967-7016-4706-a02c-e2b7b36e06fc",
   "metadata": {},
   "source": [
    "## Step 3: Product-Level Feature Engineering\n",
    "\n",
    "We group the data by product (`StockCode`) to compute:\n",
    "\n",
    "- Total quantity sold\n",
    "- Average price per unit\n",
    "- Number of transactions the product appears in\n",
    "\n",
    "We'll also create a `TotalRevenue` column for additional insight.\n"
   ]
  },
  {
   "cell_type": "code",
   "execution_count": 4,
   "id": "c11358ba-db3d-4a2d-9b79-4b0d5ff6a1f0",
   "metadata": {},
   "outputs": [],
   "source": [
    "# Creating Product-level feature set\n",
    "product_df = df.groupby('StockCode').agg({\n",
    "    'Description': 'first',\n",
    "    'Quantity': 'sum',\n",
    "    'UnitPrice': 'mean',\n",
    "    'InvoiceNo': pd.Series.nunique\n",
    "}).rename(columns={\n",
    "    'InvoiceNo': 'TransactionCount',\n",
    "    'Quantity': 'TotalQuantitySold',\n",
    "    'UnitPrice': 'AvgUnitPrice'\n",
    "})\n",
    "# Adding the total revenue column for EDA\n",
    "product_df['TotalRevenue'] = product_df['TotalQuantitySold'] * product_df['AvgUnitPrice']\n",
    "# Reset index so StockCode becomes a regular column instead of an index\n",
    "product_df = product_df.reset_index()"
   ]
  },
  {
   "cell_type": "code",
   "execution_count": 5,
   "id": "1d1ce1a2-69fb-433a-a581-4329013426e8",
   "metadata": {},
   "outputs": [
    {
     "data": {
      "text/html": [
       "<div>\n",
       "<style scoped>\n",
       "    .dataframe tbody tr th:only-of-type {\n",
       "        vertical-align: middle;\n",
       "    }\n",
       "\n",
       "    .dataframe tbody tr th {\n",
       "        vertical-align: top;\n",
       "    }\n",
       "\n",
       "    .dataframe thead th {\n",
       "        text-align: right;\n",
       "    }\n",
       "</style>\n",
       "<table border=\"1\" class=\"dataframe\">\n",
       "  <thead>\n",
       "    <tr style=\"text-align: right;\">\n",
       "      <th></th>\n",
       "      <th>StockCode</th>\n",
       "      <th>Description</th>\n",
       "      <th>TotalQuantitySold</th>\n",
       "      <th>AvgUnitPrice</th>\n",
       "      <th>TransactionCount</th>\n",
       "      <th>TotalRevenue</th>\n",
       "    </tr>\n",
       "  </thead>\n",
       "  <tbody>\n",
       "    <tr>\n",
       "      <th>0</th>\n",
       "      <td>10002</td>\n",
       "      <td>INFLATABLE POLITICAL GLOBE</td>\n",
       "      <td>823</td>\n",
       "      <td>0.850000</td>\n",
       "      <td>49</td>\n",
       "      <td>699.550000</td>\n",
       "    </tr>\n",
       "    <tr>\n",
       "      <th>1</th>\n",
       "      <td>10080</td>\n",
       "      <td>GROOVY CACTUS INFLATABLE</td>\n",
       "      <td>291</td>\n",
       "      <td>0.411905</td>\n",
       "      <td>21</td>\n",
       "      <td>119.864286</td>\n",
       "    </tr>\n",
       "    <tr>\n",
       "      <th>2</th>\n",
       "      <td>10120</td>\n",
       "      <td>DOGGY RUBBER</td>\n",
       "      <td>193</td>\n",
       "      <td>0.210000</td>\n",
       "      <td>29</td>\n",
       "      <td>40.530000</td>\n",
       "    </tr>\n",
       "    <tr>\n",
       "      <th>3</th>\n",
       "      <td>10123C</td>\n",
       "      <td>HEARTS WRAPPING TAPE</td>\n",
       "      <td>5</td>\n",
       "      <td>0.650000</td>\n",
       "      <td>3</td>\n",
       "      <td>3.250000</td>\n",
       "    </tr>\n",
       "    <tr>\n",
       "      <th>4</th>\n",
       "      <td>10124A</td>\n",
       "      <td>SPOTS ON RED BOOKCOVER TAPE</td>\n",
       "      <td>16</td>\n",
       "      <td>0.420000</td>\n",
       "      <td>5</td>\n",
       "      <td>6.720000</td>\n",
       "    </tr>\n",
       "  </tbody>\n",
       "</table>\n",
       "</div>"
      ],
      "text/plain": [
       "  StockCode                  Description  TotalQuantitySold  AvgUnitPrice  \\\n",
       "0     10002  INFLATABLE POLITICAL GLOBE                 823      0.850000   \n",
       "1     10080     GROOVY CACTUS INFLATABLE                291      0.411905   \n",
       "2     10120                 DOGGY RUBBER                193      0.210000   \n",
       "3    10123C        HEARTS WRAPPING TAPE                   5      0.650000   \n",
       "4    10124A  SPOTS ON RED BOOKCOVER TAPE                 16      0.420000   \n",
       "\n",
       "   TransactionCount  TotalRevenue  \n",
       "0                49    699.550000  \n",
       "1                21    119.864286  \n",
       "2                29     40.530000  \n",
       "3                 3      3.250000  \n",
       "4                 5      6.720000  "
      ]
     },
     "execution_count": 5,
     "metadata": {},
     "output_type": "execute_result"
    }
   ],
   "source": [
    "# Preview\n",
    "product_df.head()"
   ]
  },
  {
   "cell_type": "markdown",
   "id": "b7ddd054-d3fc-4c91-b47a-f67f13e7c8bf",
   "metadata": {},
   "source": [
    "## Step 4: Feature Selection and Scaling\n",
    "\n",
    "We’ll select 3 numeric features that capture product-level sales behavior:\n",
    "\n",
    "- TotalQuantitySold\n",
    "- AvgUnitPrice\n",
    "- TransactionCount\n",
    "\n",
    "Then we’ll scale the data using **StandardScaler** before clustering.\n"
   ]
  },
  {
   "cell_type": "code",
   "execution_count": 7,
   "id": "c1db238a-d2bf-4071-8eb9-8d1084817b9e",
   "metadata": {},
   "outputs": [],
   "source": [
    "# Feature selection\n",
    "X = product_df.loc[:, ['TotalQuantitySold', 'AvgUnitPrice', 'TransactionCount']]\n",
    "\n",
    "# Feature scaling\n",
    "sc = StandardScaler()\n",
    "X = sc.fit_transform(X)"
   ]
  },
  {
   "cell_type": "markdown",
   "id": "0056ce65-a8c8-4719-a97e-cc6316a90b62",
   "metadata": {},
   "source": [
    "## Step 5: KMeans Clustering and Elbow Method\n",
    "\n",
    "We’ll use the elbow method to determine the optimal number of clusters based on WCSS (Within-Cluster Sum of Squares), and then apply KMeans clustering."
   ]
  },
  {
   "cell_type": "code",
   "execution_count": 9,
   "id": "b903241d-4add-409c-8fcd-011d55294f7e",
   "metadata": {},
   "outputs": [
    {
     "data": {
      "image/png": "[encoded data removed]",
      "text/plain": [
       "<Figure size 800x400 with 1 Axes>"
      ]
     },
     "metadata": {},
     "output_type": "display_data"
    }
   ],
   "source": [
    "# Elbow method to find optimal k\n",
    "wcss = []\n",
    "for i in range(1, 11):\n",
    "    kmeans = KMeans(n_clusters=i, init='k-means++', random_state=0)\n",
    "    kmeans.fit(X)\n",
    "    wcss.append(kmeans.inertia_)\n",
    "\n",
    "# Plotting the elbow graph\n",
    "plt.figure(figsize=(8, 4))\n",
    "plt.plot(range(1, 11), wcss, marker='o')\n",
    "plt.xlabel('Number of clusters')\n",
    "plt.ylabel('WCSS')\n",
    "plt.title('Elbow Method for Optimal k')\n",
    "plt.show()"
   ]
  },
  {
   "cell_type": "markdown",
   "id": "2a3031fd-eed7-4a37-bdf4-d8cac215c554",
   "metadata": {},
   "source": [
    "## Step 6: Applying KMeans Clustering\n",
    "\n",
    "We’ll use `k=3` clusters (based on the elbow method) and assign a cluster label to each product."
   ]
  },
  {
   "cell_type": "code",
   "execution_count": 12,
   "id": "a4fdae72-8263-4e03-8674-e3c6b974c003",
   "metadata": {},
   "outputs": [],
   "source": [
    "# Fit KMeans with optimal clusters k=3\n",
    "km = KMeans(n_clusters=3, init='k-means++', random_state=0)\n",
    "y_kmeans = km.fit_predict(X)\n",
    "\n",
    "# Inserting the cluster label to the product data frame\n",
    "product_df['Cluster(KMeans)'] = y_kmeans"
   ]
  },
  {
   "cell_type": "code",
   "execution_count": 13,
   "id": "29053c82-13f0-40c2-af60-2b1b496480cd",
   "metadata": {},
   "outputs": [
    {
     "data": {
      "text/html": [
       "<div>\n",
       "<style scoped>\n",
       "    .dataframe tbody tr th:only-of-type {\n",
       "        vertical-align: middle;\n",
       "    }\n",
       "\n",
       "    .dataframe tbody tr th {\n",
       "        vertical-align: top;\n",
       "    }\n",
       "\n",
       "    .dataframe thead th {\n",
       "        text-align: right;\n",
       "    }\n",
       "</style>\n",
       "<table border=\"1\" class=\"dataframe\">\n",
       "  <thead>\n",
       "    <tr style=\"text-align: right;\">\n",
       "      <th></th>\n",
       "      <th>StockCode</th>\n",
       "      <th>Description</th>\n",
       "      <th>TotalQuantitySold</th>\n",
       "      <th>AvgUnitPrice</th>\n",
       "      <th>TransactionCount</th>\n",
       "      <th>TotalRevenue</th>\n",
       "      <th>Cluster(KMeans)</th>\n",
       "    </tr>\n",
       "  </thead>\n",
       "  <tbody>\n",
       "    <tr>\n",
       "      <th>0</th>\n",
       "      <td>10002</td>\n",
       "      <td>INFLATABLE POLITICAL GLOBE</td>\n",
       "      <td>823</td>\n",
       "      <td>0.850000</td>\n",
       "      <td>49</td>\n",
       "      <td>699.550000</td>\n",
       "      <td>0</td>\n",
       "    </tr>\n",
       "    <tr>\n",
       "      <th>1</th>\n",
       "      <td>10080</td>\n",
       "      <td>GROOVY CACTUS INFLATABLE</td>\n",
       "      <td>291</td>\n",
       "      <td>0.411905</td>\n",
       "      <td>21</td>\n",
       "      <td>119.864286</td>\n",
       "      <td>0</td>\n",
       "    </tr>\n",
       "    <tr>\n",
       "      <th>2</th>\n",
       "      <td>10120</td>\n",
       "      <td>DOGGY RUBBER</td>\n",
       "      <td>193</td>\n",
       "      <td>0.210000</td>\n",
       "      <td>29</td>\n",
       "      <td>40.530000</td>\n",
       "      <td>0</td>\n",
       "    </tr>\n",
       "    <tr>\n",
       "      <th>3</th>\n",
       "      <td>10123C</td>\n",
       "      <td>HEARTS WRAPPING TAPE</td>\n",
       "      <td>5</td>\n",
       "      <td>0.650000</td>\n",
       "      <td>3</td>\n",
       "      <td>3.250000</td>\n",
       "      <td>0</td>\n",
       "    </tr>\n",
       "    <tr>\n",
       "      <th>4</th>\n",
       "      <td>10124A</td>\n",
       "      <td>SPOTS ON RED BOOKCOVER TAPE</td>\n",
       "      <td>16</td>\n",
       "      <td>0.420000</td>\n",
       "      <td>5</td>\n",
       "      <td>6.720000</td>\n",
       "      <td>0</td>\n",
       "    </tr>\n",
       "  </tbody>\n",
       "</table>\n",
       "</div>"
      ],
      "text/plain": [
       "  StockCode                  Description  TotalQuantitySold  AvgUnitPrice  \\\n",
       "0     10002  INFLATABLE POLITICAL GLOBE                 823      0.850000   \n",
       "1     10080     GROOVY CACTUS INFLATABLE                291      0.411905   \n",
       "2     10120                 DOGGY RUBBER                193      0.210000   \n",
       "3    10123C        HEARTS WRAPPING TAPE                   5      0.650000   \n",
       "4    10124A  SPOTS ON RED BOOKCOVER TAPE                 16      0.420000   \n",
       "\n",
       "   TransactionCount  TotalRevenue  Cluster(KMeans)  \n",
       "0                49    699.550000                0  \n",
       "1                21    119.864286                0  \n",
       "2                29     40.530000                0  \n",
       "3                 3      3.250000                0  \n",
       "4                 5      6.720000                0  "
      ]
     },
     "execution_count": 13,
     "metadata": {},
     "output_type": "execute_result"
    }
   ],
   "source": [
    "# Preview with clusters\n",
    "product_df.head()"
   ]
  },
  {
   "cell_type": "markdown",
   "id": "66ae03ed-6c31-438f-80c8-9b9e1f0a4a36",
   "metadata": {},
   "source": [
    "## Step 7: KMeans Cluster Summary\n",
    "\n",
    "Let’s analyze how each cluster differs based on:\n",
    "\n",
    "- Average quantity sold\n",
    "- Average price per unit\n",
    "- Number of transactions the product appears in"
   ]
  },
  {
   "cell_type": "code",
   "execution_count": 14,
   "id": "e445ee55-a045-4f4e-b906-dd85c9087bb5",
   "metadata": {},
   "outputs": [
    {
     "name": "stdout",
     "output_type": "stream",
     "text": [
      "KMeans Cluster Summary:\n",
      "                 TotalQuantitySold  AvgUnitPrice  TransactionCount\n",
      "Cluster(KMeans)                                                   \n",
      "0                       747.402989      3.507642         73.573564\n",
      "1                      8749.312268      2.244919        539.791822\n",
      "2                      1061.333333    524.804170        148.000000\n"
     ]
    }
   ],
   "source": [
    "# Grouping by the kmeans clusters\n",
    "km_cluster_summary = product_df.groupby('Cluster(KMeans)')[['TotalQuantitySold', 'AvgUnitPrice', 'TransactionCount']].mean()\n",
    "print(\"KMeans Cluster Summary:\")\n",
    "print(km_cluster_summary)"
   ]
  },
  {
   "cell_type": "markdown",
   "id": "646afa13-c38b-4255-ac3e-1ba055752697",
   "metadata": {},
   "source": [
    "## Insights from KMeans Clustering\n",
    "\n",
    "Based on the clustering results, we observe three distinct product segments:\n",
    "\n",
    "#### Cluster 0 — Low Revenue, Low Volume Products\n",
    "- Moderate average quantity sold (~747 units)\n",
    "- Low average price (~3.5 GBP)\n",
    "- Low transaction count (~74)\n",
    "- These products are relatively low in demand and contribute little to overall revenue.\n",
    "- **Suggested actions**: Evaluate product relevance, consider bundling with popular items, or offer discounts.\n",
    "\n",
    "#### Cluster 1 — High Volume, Low-Cost Products\n",
    "- Very high average quantity sold (~8749 units)\n",
    "- Low average price (~2.2 GBP)\n",
    "- High transaction count (~540)\n",
    "- These are fast-moving products with high demand and frequent purchases.\n",
    "- **Suggested actions**: Ensure consistent stock availability, use them in promotions, and explore cross-selling opportunities.\n",
    "\n",
    "#### Cluster 2 — High Revenue, Premium Products\n",
    "- Moderate quantity sold (~1061 units)\n",
    "- Very high average price (~524 GBP)\n",
    "- Moderate transaction count (~148)\n",
    "- These are high-value items that generate significant revenue despite lower purchase frequency.\n",
    "- **Suggested actions**: Use targeted marketing, explore loyalty incentives, and bundle with complementary items.\n"
   ]
  },
  {
   "cell_type": "markdown",
   "id": "cc742d95-7eb0-48bd-8cd8-574dfb2c9668",
   "metadata": {},
   "source": [
    "## Step 8: Labeling the Clusters\n",
    "\n",
    "To improve readability and interpretability, we replace the numeric cluster values with meaningful labels based on sales behavior."
   ]
  },
  {
   "cell_type": "code",
   "execution_count": 18,
   "id": "e6570a91-5dec-477a-a8f7-226c2d5b9bcc",
   "metadata": {},
   "outputs": [],
   "source": [
    "product_df['Cluster(KMeans)'] = product_df['Cluster(KMeans)'].replace({\n",
    "    0: 'Low Volume - Low Price',\n",
    "    1: 'High Volume - Low Price',\n",
    "    2: 'Moderate Volume - High Price'\n",
    "})"
   ]
  },
  {
   "cell_type": "code",
   "execution_count": 19,
   "id": "6b4ca267-505f-4260-839e-67f50041d5b1",
   "metadata": {},
   "outputs": [
    {
     "data": {
      "text/html": [
       "<div>\n",
       "<style scoped>\n",
       "    .dataframe tbody tr th:only-of-type {\n",
       "        vertical-align: middle;\n",
       "    }\n",
       "\n",
       "    .dataframe tbody tr th {\n",
       "        vertical-align: top;\n",
       "    }\n",
       "\n",
       "    .dataframe thead th {\n",
       "        text-align: right;\n",
       "    }\n",
       "</style>\n",
       "<table border=\"1\" class=\"dataframe\">\n",
       "  <thead>\n",
       "    <tr style=\"text-align: right;\">\n",
       "      <th></th>\n",
       "      <th>StockCode</th>\n",
       "      <th>Description</th>\n",
       "      <th>TotalQuantitySold</th>\n",
       "      <th>AvgUnitPrice</th>\n",
       "      <th>TransactionCount</th>\n",
       "      <th>TotalRevenue</th>\n",
       "      <th>Cluster(KMeans)</th>\n",
       "    </tr>\n",
       "  </thead>\n",
       "  <tbody>\n",
       "    <tr>\n",
       "      <th>0</th>\n",
       "      <td>10002</td>\n",
       "      <td>INFLATABLE POLITICAL GLOBE</td>\n",
       "      <td>823</td>\n",
       "      <td>0.850000</td>\n",
       "      <td>49</td>\n",
       "      <td>699.550000</td>\n",
       "      <td>Low Volume - Low Price</td>\n",
       "    </tr>\n",
       "    <tr>\n",
       "      <th>1</th>\n",
       "      <td>10080</td>\n",
       "      <td>GROOVY CACTUS INFLATABLE</td>\n",
       "      <td>291</td>\n",
       "      <td>0.411905</td>\n",
       "      <td>21</td>\n",
       "      <td>119.864286</td>\n",
       "      <td>Low Volume - Low Price</td>\n",
       "    </tr>\n",
       "    <tr>\n",
       "      <th>2</th>\n",
       "      <td>10120</td>\n",
       "      <td>DOGGY RUBBER</td>\n",
       "      <td>193</td>\n",
       "      <td>0.210000</td>\n",
       "      <td>29</td>\n",
       "      <td>40.530000</td>\n",
       "      <td>Low Volume - Low Price</td>\n",
       "    </tr>\n",
       "    <tr>\n",
       "      <th>3</th>\n",
       "      <td>10123C</td>\n",
       "      <td>HEARTS WRAPPING TAPE</td>\n",
       "      <td>5</td>\n",
       "      <td>0.650000</td>\n",
       "      <td>3</td>\n",
       "      <td>3.250000</td>\n",
       "      <td>Low Volume - Low Price</td>\n",
       "    </tr>\n",
       "    <tr>\n",
       "      <th>4</th>\n",
       "      <td>10124A</td>\n",
       "      <td>SPOTS ON RED BOOKCOVER TAPE</td>\n",
       "      <td>16</td>\n",
       "      <td>0.420000</td>\n",
       "      <td>5</td>\n",
       "      <td>6.720000</td>\n",
       "      <td>Low Volume - Low Price</td>\n",
       "    </tr>\n",
       "  </tbody>\n",
       "</table>\n",
       "</div>"
      ],
      "text/plain": [
       "  StockCode                  Description  TotalQuantitySold  AvgUnitPrice  \\\n",
       "0     10002  INFLATABLE POLITICAL GLOBE                 823      0.850000   \n",
       "1     10080     GROOVY CACTUS INFLATABLE                291      0.411905   \n",
       "2     10120                 DOGGY RUBBER                193      0.210000   \n",
       "3    10123C        HEARTS WRAPPING TAPE                   5      0.650000   \n",
       "4    10124A  SPOTS ON RED BOOKCOVER TAPE                 16      0.420000   \n",
       "\n",
       "   TransactionCount  TotalRevenue         Cluster(KMeans)  \n",
       "0                49    699.550000  Low Volume - Low Price  \n",
       "1                21    119.864286  Low Volume - Low Price  \n",
       "2                29     40.530000  Low Volume - Low Price  \n",
       "3                 3      3.250000  Low Volume - Low Price  \n",
       "4                 5      6.720000  Low Volume - Low Price  "
      ]
     },
     "execution_count": 19,
     "metadata": {},
     "output_type": "execute_result"
    }
   ],
   "source": [
    "product_df.head()"
   ]
  },
  {
   "cell_type": "code",
   "execution_count": null,
   "id": "7961f9ce-3a83-47d4-a54a-2ff09f2d972f",
   "metadata": {},
   "outputs": [],
   "source": []
  }
 ],
 "metadata": {
  "kernelspec": {
   "display_name": "Python (project-env)",
   "language": "python",
   "name": "project-env"
  },
  "language_info": {
   "codemirror_mode": {
    "name": "ipython",
    "version": 3
   },
   "file_extension": ".py",
   "mimetype": "text/x-python",
   "name": "python",
   "nbconvert_exporter": "python",
   "pygments_lexer": "ipython3",
   "version": "3.12.3"
  }
 },
 "nbformat": 4,
 "nbformat_minor": 5
}
